{
 "cells": [
  {
   "cell_type": "markdown",
   "id": "structured-facility",
   "metadata": {},
   "source": [
    "# Exploratory data analysis "
   ]
  },
  {
   "cell_type": "code",
   "execution_count": null,
   "id": "polished-german",
   "metadata": {},
   "outputs": [],
   "source": [
    "# Importing\n",
    "import pandas as pd\n",
    "import numpy as np\n",
    "from datetime import datetime\n",
    "import collections\n",
    "import glob\n",
    "from pathlib import Path\n",
    "import seaborn as sns\n",
    "import matplotlib.pyplot as plt\n",
    "\n",
    "#Import the sessions data set\n",
    "path = r'File path'\n",
    "# For the electronic store data set\n",
    "df = pd.read_csv(path, index_col=None, header=0)\n",
    "\n",
    "#Import the event data set\n",
    "path = r'File path'\n",
    "# For the electronic store data set\n",
    "dfEvent = pd.read_csv(path, index_col=None, header=0)\n",
    "print(\"Data loaded\")"
   ]
  },
  {
   "cell_type": "code",
   "execution_count": null,
   "id": "architectural-heater",
   "metadata": {},
   "outputs": [],
   "source": [
    "# Only analyze the training set\n",
    "df = df[~df['set'].isnull()]\n",
    "df = df[df['set']==\"train\"]\n",
    "dfEvent = dfEvent[~dfEvent['set'].isnull()]\n",
    "dfEvent = dfEvent[dfEvent['set']==\"train\"]\n",
    "\n",
    "print(\"Number of sessions:\",len(df))\n",
    "print(\"Number of events:\", len(dfEvent))"
   ]
  },
  {
   "cell_type": "markdown",
   "id": "molecular-check",
   "metadata": {},
   "source": [
    "## Customization of the data types"
   ]
  },
  {
   "cell_type": "code",
   "execution_count": null,
   "id": "animated-condition",
   "metadata": {},
   "outputs": [],
   "source": [
    "#################### Convert the data types - session dataframe\n",
    "# Convert the session length and max time between two events to seconds\n",
    "df.session_length = pd.DataFrame(df.session_length.map(lambda x: pd.to_timedelta(x).seconds)).values\n",
    "df.max_time_between_two_events = pd.DataFrame(df.max_time_between_two_events.map(lambda x: pd.to_timedelta(x).seconds)).values\n",
    "df = df.astype({\"user_id\": 'category',\"user_session_id_new\":'category',\"day\":'int64',\"weekDay\":'category',\"dayTime\":'category',\"PurchaseSession\":'category', \"session_length\":'int64',\"max_time_between_two_events\":'int64'})\n",
    "\n",
    "#################### Convert the data types - event dataframe\n",
    "dfEvent= dfEvent.astype({\"user_id\": 'category',\"user_session_id_new\":'category',\"day\":'int64',\"weekDay\":'category',\"dayTime\":'category', \"product_id\":'category',\"category_code\":'category',\"category_id\":'category',\"brand\":\"category\"})\n",
    "print(\"Converted\")"
   ]
  },
  {
   "cell_type": "markdown",
   "id": "valid-stage",
   "metadata": {},
   "source": [
    "## Data analysis"
   ]
  },
  {
   "cell_type": "code",
   "execution_count": null,
   "id": "lightweight-journey",
   "metadata": {},
   "outputs": [],
   "source": [
    "# Analysis of the feature daytime\n",
    "df.dayTime.value_counts().plot(kind=\"bar\", figsize=(10,5))\n",
    "plt.title(\"Number of events by daytime\")\n",
    "plt.ylabel(\"Number of events\")\n",
    "plt.xlabel(\"Daytime\");"
   ]
  },
  {
   "cell_type": "markdown",
   "id": "angry-wallpaper",
   "metadata": {},
   "source": [
    "## Investigation of the event dataframe"
   ]
  },
  {
   "cell_type": "code",
   "execution_count": null,
   "id": "suffering-payroll",
   "metadata": {},
   "outputs": [],
   "source": [
    "# Parent product categories\n",
    "dfEvent.parentProductCategory.value_counts().nlargest(40).plot(kind=\"bar\", figsize=(10,5))\n",
    "plt.title(\"Number of events by categories\")\n",
    "plt.ylabel(\"Number of events\")\n",
    "plt.xlabel(\"Parent category\");"
   ]
  },
  {
   "cell_type": "code",
   "execution_count": null,
   "id": "proper-orchestra",
   "metadata": {},
   "outputs": [],
   "source": [
    "# Secondary product categories\n",
    "dfEvent.secondaryProductCategory.value_counts().nlargest(40).plot(kind=\"bar\", figsize=(10,5))\n",
    "plt.title(\"Number of events by categories\")\n",
    "plt.ylabel(\"Number of events\")\n",
    "plt.xlabel(\"Secondary category\");"
   ]
  },
  {
   "cell_type": "code",
   "execution_count": null,
   "id": "fantastic-account",
   "metadata": {},
   "outputs": [],
   "source": [
    "# Third product categories\n",
    "dfEvent.thirdProductCategory.value_counts().nlargest(40).plot(kind=\"bar\", figsize=(10,5))\n",
    "plt.title(\"Number of events by categories\")\n",
    "plt.ylabel(\"Number of events\")\n",
    "plt.xlabel(\"Third category\");"
   ]
  },
  {
   "cell_type": "code",
   "execution_count": null,
   "id": "spread-inclusion",
   "metadata": {},
   "outputs": [],
   "source": [
    "# Brands\n",
    "dfEvent.brand.value_counts().nlargest(40).plot(kind=\"bar\", figsize=(10,5))\n",
    "plt.title(\"Number of events by brands\")\n",
    "plt.ylabel(\"Number of events\")\n",
    "plt.xlabel(\"Brand\");"
   ]
  },
  {
   "cell_type": "markdown",
   "id": "logical-basics",
   "metadata": {},
   "source": [
    "## Investigation of events"
   ]
  },
  {
   "cell_type": "code",
   "execution_count": null,
   "id": "lightweight-theater",
   "metadata": {},
   "outputs": [],
   "source": [
    "# Only sessions with less than 15 events\n",
    "sns.set(rc={'figure.figsize':(11.7,8.27)})\n",
    "sns.set_palette(\"viridis\")\n",
    "sns.set_theme(style=\"whitegrid\")\n",
    "df15Events = df\n",
    "df15Events =df15Events[df15Events[\"number_of_total_events_per_session_view_cart\"]<16]\n",
    "df15Events = df15Events.astype({\"number_of_total_events_per_session_view_cart\":'category'})\n",
    "sns.countplot(data= df15Events, x = df15Events[\"number_of_total_events_per_session_view_cart\"], palette= \"viridis\")\n",
    "plt.xlabel(\"Number of total events per session\")\n",
    "plt.ylabel(\"Count\")\n",
    "#plt.title(\"Number of total events per session\")"
   ]
  },
  {
   "cell_type": "markdown",
   "id": "related-control",
   "metadata": {},
   "source": [
    "## Histogram for the number of views per session"
   ]
  },
  {
   "cell_type": "code",
   "execution_count": null,
   "id": "competitive-specific",
   "metadata": {},
   "outputs": [],
   "source": [
    "# Only sessions with less than 15 views\n",
    "sns.set(rc={'figure.figsize':(11.7,8.27)})\n",
    "df15Views = df\n",
    "df15Views = df15Views[df15Views[\"number_of_views\"]<16]\n",
    "df15Views  = df15Views.astype({\"number_of_views\":'category'})\n",
    "sns.set_theme(style=\"whitegrid\")\n",
    "sns.countplot(data= df15Views, x = df15Views[\"number_of_views\"], palette= \"viridis\")\n",
    "plt.ylabel(\"Count\")\n",
    "plt.xlabel(\"Number of views per session\")\n",
    "#plt.title(\"Number of views per session\")"
   ]
  },
  {
   "cell_type": "markdown",
   "id": "private-stage",
   "metadata": {},
   "source": [
    "## Number of purchases per day over time"
   ]
  },
  {
   "cell_type": "code",
   "execution_count": null,
   "id": "latest-cricket",
   "metadata": {},
   "outputs": [],
   "source": [
    "df['event_time']= pd.to_datetime(df['event_time'], infer_datetime_format=True).dt.tz_localize(None)\n",
    "sns.set(rc={'figure.figsize':(11.7,8.27)})\n",
    "sns.set_palette(\"viridis\")\n",
    "sns.set_theme(style=\"whitegrid\")\n",
    "NumberOfPurchasesPerDay = df[\"event_time\"].groupby(df[\"event_time\"].dt.floor('d')).size().reset_index(name='count')\n",
    "x = NumberOfPurchasesPerDay[\"event_time\"]\n",
    "y = NumberOfPurchasesPerDay[\"count\"]\n",
    "plt.xlabel(\"Time\")\n",
    "plt.ylabel(\"Number of purchases\")\n",
    "#plt.title(\"Number of purchases per day over time\")\n",
    "plt.plot(x,y,color='#46327e')"
   ]
  },
  {
   "cell_type": "markdown",
   "id": "seventh-norwegian",
   "metadata": {},
   "source": [
    "## Histogram of the time of all events"
   ]
  },
  {
   "cell_type": "code",
   "execution_count": null,
   "id": "protecting-disaster",
   "metadata": {},
   "outputs": [],
   "source": [
    "sns.set(rc={'figure.figsize':(11.7,8.27)})\n",
    "sns.set_theme(style=\"whitegrid\")\n",
    "df = df.astype({\"hour\": 'category'})\n",
    "hour = df[\"hour\"].cat.as_ordered()\n",
    "sns.displot(dfEvent, x=hour, palette= \"viridis\",hue=\"event_type\", hue_order = ['purchase', 'cart','view'], multiple=\"stack\")#, bins=10)\n",
    "plt.xlabel(\"Hour of the day\")\n",
    "plt.ylabel(\"Count of events\")\n",
    "#plt.ticklabel_format(style='plain')\n",
    "#plt.title(\"Number of events by hours\")\n",
    "df = df.astype({\"hour\": 'int'})"
   ]
  },
  {
   "cell_type": "markdown",
   "id": "varying-milan",
   "metadata": {},
   "source": [
    "## Density plot of the session length"
   ]
  },
  {
   "cell_type": "code",
   "execution_count": null,
   "id": "organic-yugoslavia",
   "metadata": {},
   "outputs": [],
   "source": [
    "# Plot 5: Density plot of the session length\n",
    "sns.set(rc={'figure.figsize':(11.7,8.27)})\n",
    "sns.set_theme(style=\"whitegrid\")\n",
    "seconds = df.session_length\n",
    "sns.displot(df, x=seconds, kind='kde',color='#46327e')\n",
    "#plt.xlabel(\"Session length in seconds\")\n",
    "#plt.ylabel(\"Density\")\n",
    "#plt.title(\"Density of the session length in seconds\")\n",
    "plt.xlim(0, 4500)"
   ]
  },
  {
   "cell_type": "markdown",
   "id": "medical-violence",
   "metadata": {},
   "source": [
    "## Density plot of the maximal time between two events"
   ]
  },
  {
   "cell_type": "code",
   "execution_count": null,
   "id": "noble-warrior",
   "metadata": {},
   "outputs": [],
   "source": [
    "sns.set(rc={'figure.figsize':(11.7,8.27)})\n",
    "sns.set_theme(style=\"whitegrid\")\n",
    "maxMinutesBetween = df.max_time_between_two_events\n",
    "sns.displot(df, x=maxMinutesBetween, kind='kde',color='#46327e')\n",
    "#plt.xlabel(\"Maximal time between two events of a session in seconds\")\n",
    "#plt.ylabel(\"Density\")\n",
    "#plt.title(\"Density of the maximal time between two events of a session in seconds\")\n",
    "plt.xlim(0, 2500)\n",
    "plt.savefig('File path', format='eps')"
   ]
  },
  {
   "cell_type": "markdown",
   "id": "overall-supervisor",
   "metadata": {},
   "source": [
    "## Density plot of the product prices"
   ]
  },
  {
   "cell_type": "code",
   "execution_count": null,
   "id": "outside-spare",
   "metadata": {},
   "outputs": [],
   "source": [
    "# Density plot of product prices\n",
    "sns.set(rc={'figure.figsize':(11.7,8.27)})\n",
    "sns.set_theme(style=\"whitegrid\")\n",
    "products = dfEvent.copy(deep=True).drop_duplicates(\"product_id\")\n",
    "price = products.price\n",
    "sns.displot(products, x=price, kind='kde',color='#46327e')\n",
    "plt.xlim(0, 1000)"
   ]
  },
  {
   "cell_type": "markdown",
   "id": "grand-horizon",
   "metadata": {},
   "source": [
    "## Density plot of the average value of views"
   ]
  },
  {
   "cell_type": "code",
   "execution_count": null,
   "id": "brutal-nicholas",
   "metadata": {},
   "outputs": [],
   "source": [
    "# Density plot of average value of views\n",
    "sns.displot(df, x=\"average_value_of_views\", kind='kde',color='#46327e')\n",
    "plt.xlim(0, 1000)"
   ]
  },
  {
   "cell_type": "markdown",
   "id": "sitting-intro",
   "metadata": {},
   "source": [
    "## Heatmap of correlations"
   ]
  },
  {
   "cell_type": "code",
   "execution_count": null,
   "id": "binding-ultimate",
   "metadata": {},
   "outputs": [],
   "source": [
    "# Create a heatmap of correlations for all numerical features\n",
    "df = df.drop(columns=[\"day\",\"hour\",\"month\"])\n",
    "df = df.select_dtypes(include=np.number)\n",
    "correlationMatrix = df.corr()\n",
    "plt.subplots(figsize=(35,35))\n",
    "sns.heatmap(correlationMatrix, annot = True, cmap= 'coolwarm')\n",
    "plt.show()"
   ]
  },
  {
   "cell_type": "code",
   "execution_count": null,
   "id": "harmful-prairie",
   "metadata": {},
   "outputs": [],
   "source": []
  },
  {
   "cell_type": "code",
   "execution_count": null,
   "id": "familiar-color",
   "metadata": {},
   "outputs": [],
   "source": []
  },
  {
   "cell_type": "code",
   "execution_count": null,
   "id": "still-deposit",
   "metadata": {},
   "outputs": [],
   "source": []
  }
 ],
 "metadata": {
  "kernelspec": {
   "display_name": "Python 3",
   "language": "python",
   "name": "python3"
  },
  "language_info": {
   "codemirror_mode": {
    "name": "ipython",
    "version": 3
   },
   "file_extension": ".py",
   "mimetype": "text/x-python",
   "name": "python",
   "nbconvert_exporter": "python",
   "pygments_lexer": "ipython3",
   "version": "3.7.6"
  }
 },
 "nbformat": 4,
 "nbformat_minor": 5
}
